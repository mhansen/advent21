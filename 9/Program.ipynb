{
 "cells": [
  {
   "cell_type": "code",
   "execution_count": null,
   "metadata": {
    "dotnet_interactive": {
     "language": "fsharp"
    }
   },
   "outputs": [
    {
     "data": {
      "text/html": [
       "<table><thead><tr><th><i>index</i></th><th>value</th></tr></thead><tbody><tr><td>0</td><td><div class=\"dni-plaintext\">2</div></td></tr><tr><td>1</td><td><div class=\"dni-plaintext\">1</div></td></tr><tr><td>2</td><td><div class=\"dni-plaintext\">9</div></td></tr><tr><td>3</td><td><div class=\"dni-plaintext\">9</div></td></tr><tr><td>4</td><td><div class=\"dni-plaintext\">9</div></td></tr><tr><td>5</td><td><div class=\"dni-plaintext\">4</div></td></tr><tr><td>6</td><td><div class=\"dni-plaintext\">3</div></td></tr><tr><td>7</td><td><div class=\"dni-plaintext\">2</div></td></tr><tr><td>8</td><td><div class=\"dni-plaintext\">1</div></td></tr><tr><td>9</td><td><div class=\"dni-plaintext\">0</div></td></tr><tr><td>10</td><td><div class=\"dni-plaintext\">3</div></td></tr><tr><td>11</td><td><div class=\"dni-plaintext\">9</div></td></tr><tr><td>12</td><td><div class=\"dni-plaintext\">8</div></td></tr><tr><td>13</td><td><div class=\"dni-plaintext\">7</div></td></tr><tr><td>14</td><td><div class=\"dni-plaintext\">8</div></td></tr><tr><td>15</td><td><div class=\"dni-plaintext\">9</div></td></tr><tr><td>16</td><td><div class=\"dni-plaintext\">4</div></td></tr><tr><td>17</td><td><div class=\"dni-plaintext\">9</div></td></tr><tr><td>18</td><td><div class=\"dni-plaintext\">2</div></td></tr><tr><td>19</td><td><div class=\"dni-plaintext\">1</div></td></tr><tr><td colspan=\"2\"><i>(30 more)</i></td></tr></tbody></table>"
      ]
     },
     "metadata": {},
     "output_type": "display_data"
    }
   ],
   "source": [
    "let parseLine (line: string) : seq<int> =\n",
    "  line\n",
    "  |> Seq.map (fun x -> int (x.ToString()))\n",
    "\n",
    "let read filename: int[,] =\n",
    "  System.IO.File.ReadAllLines(filename)\n",
    "  |> Seq.map parseLine\n",
    "  |> array2D\n",
    "\n",
    "read \"sample.txt\""
   ]
  },
  {
   "cell_type": "code",
   "execution_count": null,
   "metadata": {
    "dotnet_interactive": {
     "language": "fsharp"
    }
   },
   "outputs": [
    {
     "data": {
      "text/html": [
       "<div class=\"dni-plaintext\">577</div>"
      ]
     },
     "metadata": {},
     "output_type": "display_data"
    }
   ],
   "source": [
    "let is_lowest (i: int) (j: int) (z: int[,]): bool =\n",
    "  let higher_left  = i <= 0 || z[i,j] < z[i-1,j]\n",
    "  let higher_right = i + 1 >= Array2D.length1  z || z[i,j] < z[i+1,j]\n",
    "  let higher_up    = j <= 0 || z[i,j] < z[i,j-1]\n",
    "  let higher_down  = j + 1>= Array2D.length2 z ||  z[i,j] < z[i,j+1]\n",
    "  higher_left && higher_right && higher_up && higher_down\n",
    "\n",
    "let low_heights (z: int[,]): seq<int> =\n",
    "  seq {\n",
    "    for i in 0..((Array2D.length1 z)-1) do\n",
    "      for j in 0..((Array2D.length2 z)-1) do\n",
    "        if (is_lowest i j z) then z[i,j] \n",
    "  }\n",
    "\n",
    "read \"input.txt\"\n",
    "  |> low_heights\n",
    "  |> Seq.map (fun x -> x + 1)\n",
    "  |> Seq.sum"
   ]
  },
  {
   "cell_type": "code",
   "execution_count": null,
   "metadata": {
    "dotnet_interactive": {
     "language": "fsharp"
    }
   },
   "outputs": [
    {
     "data": {
      "text/html": [
       "<table><thead><tr><th><i>index</i></th><th>Item1</th><th>Item2</th></tr></thead><tbody><tr><td>0</td><td><div class=\"dni-plaintext\">0</div></td><td><div class=\"dni-plaintext\">1</div></td></tr><tr><td>1</td><td><div class=\"dni-plaintext\">0</div></td><td><div class=\"dni-plaintext\">9</div></td></tr><tr><td>2</td><td><div class=\"dni-plaintext\">2</div></td><td><div class=\"dni-plaintext\">2</div></td></tr><tr><td>3</td><td><div class=\"dni-plaintext\">4</div></td><td><div class=\"dni-plaintext\">6</div></td></tr></tbody></table>"
      ]
     },
     "metadata": {},
     "output_type": "display_data"
    }
   ],
   "source": [
    "// Flood fill\n",
    "// Find low points\n",
    "let low_points (z: int[,]): seq<int * int> =\n",
    "  seq {\n",
    "    for i in 0..((Array2D.length1 z)-1) do\n",
    "      for j in 0..((Array2D.length2 z)-1) do\n",
    "        if (is_lowest i j z) then i,j \n",
    "  }\n",
    "\n",
    "read \"sample.txt\"\n",
    "  |> low_points"
   ]
  },
  {
   "cell_type": "code",
   "execution_count": null,
   "metadata": {
    "dotnet_interactive": {
     "language": "fsharp"
    }
   },
   "outputs": [
    {
     "data": {
      "text/html": [
       "<div class=\"dni-plaintext\">1069200</div>"
      ]
     },
     "metadata": {},
     "output_type": "display_data"
    }
   ],
   "source": [
    "// Recursively(?) search outwards keeping track of what we have visited so far\n",
    "let rec flood_fill (z : int[,]) (x: int) (y: int) (acc : Set<int * int>) : Set<int * int> =\n",
    "  if acc.Contains (x, y)\n",
    "    || x < 0\n",
    "    || y < 0\n",
    "    || x >= (Array2D.length1 z)\n",
    "    || y >= (Array2D.length2 z)\n",
    "    || z[x,y] = 9 then\n",
    "    acc\n",
    "  else\n",
    "    acc\n",
    "    |> Set.add (x, y)\n",
    "    |> flood_fill z (x + 1) y\n",
    "    |> flood_fill z (x - 1) y\n",
    "    |> flood_fill z x (y - 1)\n",
    "    |> flood_fill z x (y + 1)\n",
    "\n",
    "let flood_fill1 (z : int[,]) (x : int) (y : int) : Set<int * int> =\n",
    "  Set.empty\n",
    "  |> flood_fill z x y\n",
    "\n",
    "let input = read \"input.txt\"\n",
    "\n",
    "input\n",
    "  |> low_points\n",
    "  // Return size\n",
    "  |> Seq.map (fun (x, y) -> (x,y), (flood_fill1 input x y), (Seq.length (flood_fill1 input x y)))\n",
    "  |> Seq.map (fun (x, y, z) -> z)\n",
    "  |> Seq.sortDescending\n",
    "  // Grab top 3\n",
    "  |> Seq.take 3\n",
    "  // Multiply\n",
    "  |> Seq.fold (fun x y -> x * y) 1"
   ]
  },
  {
   "cell_type": "code",
   "execution_count": null,
   "metadata": {
    "dotnet_interactive": {
     "language": "fsharp"
    }
   },
   "outputs": [],
   "source": []
  }
 ],
 "metadata": {
  "interpreter": {
   "hash": "aee8b7b246df8f9039afb4144a1f6fd8d2ca17a180786b69acc140d282b71a49"
  },
  "kernelspec": {
   "display_name": ".NET (C#)",
   "language": "C#",
   "name": ".net-csharp"
  },
  "language_info": {
   "file_extension": ".cs",
   "mimetype": "text/x-csharp",
   "name": "C#",
   "pygments_lexer": "csharp",
   "version": "9.0"
  }
 },
 "nbformat": 4,
 "nbformat_minor": 2
}
